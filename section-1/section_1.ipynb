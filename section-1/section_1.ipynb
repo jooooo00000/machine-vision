{
 "cells": [
  {
   "cell_type": "markdown",
   "id": "0a92c65f-23cd-4715-95a6-e697488811a4",
   "metadata": {},
   "source": [
    "# learn Python"
   ]
  },
  {
   "cell_type": "markdown",
   "id": "fe4c66aa-8002-456b-8adb-f987d2621596",
   "metadata": {},
   "source": [
    "## 1. Numeric Data Types\n",
    "### Integers and Floats"
   ]
  },
  {
   "cell_type": "code",
   "execution_count": 299,
   "id": "bb8922e0-2ff6-4f02-a5c4-9fb2d3bfe6be",
   "metadata": {},
   "outputs": [
    {
     "name": "stdout",
     "output_type": "stream",
     "text": [
      "13\n",
      "7\n",
      "30\n",
      "3.3333333333333335\n"
     ]
    }
   ],
   "source": [
    "# Integers (int) - whole numbers without decimal points\n",
    "age = 25\n",
    "count = -10\n",
    "\n",
    "# Integer operations\n",
    "x = 10\n",
    "y = 3\n",
    "print(x + y)    # Addition: 13\n",
    "print(x - y)    # Subtraction: 7\n",
    "print(x * y)    # Multiplication: 30\n",
    "print(x / y)    # Division (always returns float): 3.3333...\n"
   ]
  },
  {
   "cell_type": "code",
   "execution_count": 303,
   "id": "81389992-6270-444d-85e4-9ed361a5f05d",
   "metadata": {},
   "outputs": [
    {
     "name": "stdout",
     "output_type": "stream",
     "text": [
      "123\n",
      "5\n"
     ]
    }
   ],
   "source": [
    "# Type conversion\n",
    "int_num = int(\"123\")    # String to integer: 123\n",
    "int_from_float = int(5.7)  # Float to integer: 5 (truncates decimal)\n",
    "print(int_num)\n",
    "print(int_from_float)"
   ]
  },
  {
   "cell_type": "code",
   "execution_count": 305,
   "id": "6af76129-ae69-4a1a-bb23-326167bb9207",
   "metadata": {},
   "outputs": [
    {
     "name": "stdout",
     "output_type": "stream",
     "text": [
      "4.0\n",
      "3.75\n"
     ]
    }
   ],
   "source": [
    "# Floats - numbers with decimal points\n",
    "price = 19.99\n",
    "pi = 3.14159\n",
    "\n",
    "# Float operations\n",
    "a = 2.5\n",
    "b = 1.5\n",
    "print(a + b)    # Addition: 4.0\n",
    "print(a * b)    # Multiplication: 3.75"
   ]
  },
  {
   "cell_type": "markdown",
   "id": "64cf4b1e-4dd1-4570-a27b-db169d43be17",
   "metadata": {},
   "source": [
    "## 2. Strings\n",
    "### String Operations"
   ]
  },
  {
   "cell_type": "code",
   "execution_count": 310,
   "id": "aaebe156-8fa3-43c6-b8d2-39f3591f7721",
   "metadata": {},
   "outputs": [
    {
     "data": {
      "text/plain": [
       "str"
      ]
     },
     "execution_count": 310,
     "metadata": {},
     "output_type": "execute_result"
    }
   ],
   "source": [
    "mystr = \"hello world\"\n",
    "type(mystr)"
   ]
  },
  {
   "cell_type": "code",
   "execution_count": 314,
   "id": "aa76fb13-de89-4601-ad53-0624889eac6b",
   "metadata": {},
   "outputs": [
    {
     "data": {
      "text/plain": [
       "'HELLO WORLD'"
      ]
     },
     "execution_count": 314,
     "metadata": {},
     "output_type": "execute_result"
    }
   ],
   "source": [
    "mystr.upper() \n",
    "\n",
    "# Other useful string methods include:\n",
    "# .upper() - converts to uppercase\n",
    "# .capitalize() - capitalizes first letter\n",
    "# .strip() - removes whitespace from ends\n",
    "# .split() - splits string into list\n",
    "# .join() - joins list elements into string"
   ]
  },
  {
   "cell_type": "code",
   "execution_count": 318,
   "id": "82a6a613-57ca-434d-8ba9-26d52790b350",
   "metadata": {},
   "outputs": [
    {
     "data": {
      "text/plain": [
       "'Hello world'"
      ]
     },
     "execution_count": 318,
     "metadata": {},
     "output_type": "execute_result"
    }
   ],
   "source": [
    "mystr.capitalize() \n"
   ]
  },
  {
   "cell_type": "code",
   "execution_count": 316,
   "id": "cf2b34a5-00e1-4f4a-b62b-6fa4fa04aec4",
   "metadata": {},
   "outputs": [
    {
     "data": {
      "text/plain": [
       "['hello', 'world']"
      ]
     },
     "execution_count": 316,
     "metadata": {},
     "output_type": "execute_result"
    }
   ],
   "source": [
    "mystr.split() \n"
   ]
  },
  {
   "cell_type": "markdown",
   "id": "bf377869-e1d0-4234-af9d-881c94b3e3d2",
   "metadata": {},
   "source": [
    "## 3. Lists\n",
    "### Working with Lists"
   ]
  },
  {
   "cell_type": "code",
   "execution_count": 467,
   "id": "e91894f9-9910-457c-99b1-350cecdb3964",
   "metadata": {},
   "outputs": [],
   "source": [
    "# Creating a list with mixed data types\n",
    "myList = [1, 2.3, \"hello\", 4, 5, [2,4,5,6]]  # Lists can contain other lists"
   ]
  },
  {
   "cell_type": "code",
   "execution_count": 469,
   "id": "e079e0b8-8d01-4d16-b956-211c7561b5b7",
   "metadata": {},
   "outputs": [],
   "source": [
    "myList.append(2)      # Adds element to end"
   ]
  },
  {
   "cell_type": "code",
   "execution_count": 471,
   "id": "7858e9fa-a60a-4679-84cc-94429da86fa4",
   "metadata": {},
   "outputs": [],
   "source": [
    "myList.remove('hello')  # Removes first occurrence of value"
   ]
  },
  {
   "cell_type": "code",
   "execution_count": 473,
   "id": "e1f32fcf-d098-409d-92aa-2eb0860e46ce",
   "metadata": {},
   "outputs": [
    {
     "data": {
      "text/plain": [
       "2"
      ]
     },
     "execution_count": 473,
     "metadata": {},
     "output_type": "execute_result"
    }
   ],
   "source": [
    "myList.pop()           # Removes and returns last element"
   ]
  },
  {
   "cell_type": "code",
   "execution_count": 475,
   "id": "f76bd134-4f98-49ac-b5bb-ef4d68c5d15a",
   "metadata": {},
   "outputs": [
    {
     "data": {
      "text/plain": [
       "1"
      ]
     },
     "execution_count": 475,
     "metadata": {},
     "output_type": "execute_result"
    }
   ],
   "source": [
    "myList.pop(0)         # Removes and returns element at index 0"
   ]
  },
  {
   "cell_type": "code",
   "execution_count": 477,
   "id": "8fcb7f17-92ec-4aa9-9543-0be066fcb965",
   "metadata": {},
   "outputs": [
    {
     "data": {
      "text/plain": [
       "[2.3, 4, 5, [2, 4, 5, 6]]"
      ]
     },
     "execution_count": 477,
     "metadata": {},
     "output_type": "execute_result"
    }
   ],
   "source": [
    "myList"
   ]
  },
  {
   "cell_type": "code",
   "execution_count": 336,
   "id": "baf7c57f-f3bd-4358-b31f-6f2617320203",
   "metadata": {},
   "outputs": [
    {
     "data": {
      "text/plain": [
       "[5, 4, 2.3, 1]"
      ]
     },
     "execution_count": 336,
     "metadata": {},
     "output_type": "execute_result"
    }
   ],
   "source": [
    "myList= [1, 2.3, 4, 5]\n",
    "myList.sort(reverse=True)  # Sorts list in descending order\n",
    "myList"
   ]
  },
  {
   "cell_type": "code",
   "execution_count": 338,
   "id": "52c83734-5e49-47b5-84a7-22d28edf2acf",
   "metadata": {},
   "outputs": [
    {
     "data": {
      "text/plain": [
       "[5, 2.3]"
      ]
     },
     "execution_count": 338,
     "metadata": {},
     "output_type": "execute_result"
    }
   ],
   "source": [
    "# List slicing\n",
    "myList[0:-1:2]  # Start:End:Step"
   ]
  },
  {
   "cell_type": "markdown",
   "id": "becc7e2d-c767-45b2-8699-9d9ab40d3b0d",
   "metadata": {},
   "source": [
    "## 4. Tuples\n",
    "### Understanding Tuples"
   ]
  },
  {
   "cell_type": "code",
   "execution_count": null,
   "id": "43b0062b-1b02-4066-b100-dac39079596f",
   "metadata": {},
   "outputs": [],
   "source": [
    "# Creating a tuple\n",
    "mytuple = (1, [2.3, 5, 6, 7], 3,3, 4, 5)\n"
   ]
  },
  {
   "cell_type": "code",
   "execution_count": null,
   "id": "750f8661-0cc3-446f-a2e9-17bddfbadfbe",
   "metadata": {},
   "outputs": [],
   "source": [
    "# in tuple u cant remove elements "
   ]
  },
  {
   "cell_type": "code",
   "execution_count": 341,
   "id": "48e4f819-6269-4a39-851e-95521bafdb0f",
   "metadata": {},
   "outputs": [
    {
     "data": {
      "text/plain": [
       "1"
      ]
     },
     "execution_count": 341,
     "metadata": {},
     "output_type": "execute_result"
    }
   ],
   "source": [
    "# count specific value\n",
    "mytuple.count(3)"
   ]
  },
  {
   "cell_type": "code",
   "execution_count": 345,
   "id": "9c54a37b-f9b4-495a-a018-0aebd863f50d",
   "metadata": {},
   "outputs": [
    {
     "data": {
      "text/plain": [
       "0"
      ]
     },
     "execution_count": 345,
     "metadata": {},
     "output_type": "execute_result"
    }
   ],
   "source": [
    "# get index for value\n",
    "mytuple.index(1)"
   ]
  },
  {
   "cell_type": "code",
   "execution_count": 349,
   "id": "8733ff99-f75b-4876-b146-fc4767ee57cb",
   "metadata": {},
   "outputs": [
    {
     "data": {
      "text/plain": [
       "1"
      ]
     },
     "execution_count": 349,
     "metadata": {},
     "output_type": "execute_result"
    }
   ],
   "source": [
    "#slicing\n",
    "mytuple[0]"
   ]
  },
  {
   "cell_type": "code",
   "execution_count": 351,
   "id": "1b16ed91-4f99-426f-91d5-b82135b65e99",
   "metadata": {},
   "outputs": [
    {
     "data": {
      "text/plain": [
       "[2.3, 5, 6, 7]"
      ]
     },
     "execution_count": 351,
     "metadata": {},
     "output_type": "execute_result"
    }
   ],
   "source": [
    "mytuple[1]"
   ]
  },
  {
   "cell_type": "code",
   "execution_count": 353,
   "id": "92d95829-bb69-45c0-ae68-df40ae2b22a1",
   "metadata": {},
   "outputs": [
    {
     "data": {
      "text/plain": [
       "list"
      ]
     },
     "execution_count": 353,
     "metadata": {},
     "output_type": "execute_result"
    }
   ],
   "source": [
    "type(mytuple[1])"
   ]
  },
  {
   "cell_type": "code",
   "execution_count": 355,
   "id": "d3c3ada0-7525-4e37-a7f9-d96164960aa4",
   "metadata": {},
   "outputs": [],
   "source": [
    "# this is list u can add or remove from list \n",
    "mytuple[1].append(3)"
   ]
  },
  {
   "cell_type": "code",
   "execution_count": 357,
   "id": "25ff4a58-bc90-4791-b547-f6fb6d857c74",
   "metadata": {},
   "outputs": [
    {
     "data": {
      "text/plain": [
       "(1, [2.3, 5, 6, 7, 3], 3, 4, 5)"
      ]
     },
     "execution_count": 357,
     "metadata": {},
     "output_type": "execute_result"
    }
   ],
   "source": [
    "# its way to workaround that u cant add or remove values from tuple\n",
    "mytuple"
   ]
  },
  {
   "cell_type": "markdown",
   "id": "4293b654-3ddc-440b-b058-5fe200fc101e",
   "metadata": {},
   "source": [
    "## 5. Dictionaries\n",
    "### Dictionary Basics"
   ]
  },
  {
   "cell_type": "code",
   "execution_count": 360,
   "id": "5cf16a0f-a932-409b-a6bf-3bfc3b95a5a6",
   "metadata": {},
   "outputs": [],
   "source": [
    "# Creating a dictionary\n",
    "# dictionary doesn't allow for same key\n",
    "mydict = {\n",
    "#       key : value\n",
    "    \"mohamed\": 90,\n",
    "    \"ahmed\": 85,\n",
    "    \"hassan\": 3,\n",
    "}"
   ]
  },
  {
   "cell_type": "code",
   "execution_count": 364,
   "id": "e81ed167-c40f-4974-b246-20a5e1fa6437",
   "metadata": {},
   "outputs": [
    {
     "data": {
      "text/plain": [
       "85"
      ]
     },
     "execution_count": 364,
     "metadata": {},
     "output_type": "execute_result"
    }
   ],
   "source": [
    "# Accessing dictionary values\n",
    "mydict.get(\"ahmed\")  # returns None if key doesn't exist\n",
    "mydict[\"ahmed\"]      # Direct access, raises KeyError if key doesn't exist"
   ]
  },
  {
   "cell_type": "code",
   "execution_count": 366,
   "id": "ef60239b-50a2-49c6-9d8e-31790021e0a9",
   "metadata": {},
   "outputs": [
    {
     "data": {
      "text/plain": [
       "dict_keys(['mohamed', 'ahmed', 'hassan'])"
      ]
     },
     "execution_count": 366,
     "metadata": {},
     "output_type": "execute_result"
    }
   ],
   "source": [
    "mydict.keys()"
   ]
  },
  {
   "cell_type": "code",
   "execution_count": 368,
   "id": "7b7eaf91-1f57-4318-9b54-e4aea75a5a54",
   "metadata": {},
   "outputs": [
    {
     "data": {
      "text/plain": [
       "dict_values([90, 85, 3])"
      ]
     },
     "execution_count": 368,
     "metadata": {},
     "output_type": "execute_result"
    }
   ],
   "source": [
    "mydict.values()"
   ]
  },
  {
   "cell_type": "code",
   "execution_count": 370,
   "id": "51d993c0-5f48-402f-857d-18f8996fd491",
   "metadata": {},
   "outputs": [
    {
     "data": {
      "text/plain": [
       "dict_items([('mohamed', 90), ('ahmed', 85), ('hassan', 3)])"
      ]
     },
     "execution_count": 370,
     "metadata": {},
     "output_type": "execute_result"
    }
   ],
   "source": [
    "mydict.items()"
   ]
  },
  {
   "cell_type": "code",
   "execution_count": 378,
   "id": "093237d4-1f98-4efe-818b-21d85ca4b974",
   "metadata": {},
   "outputs": [],
   "source": [
    "# what hassan value now?\n",
    "mydict = {\n",
    "    \"mohamed\": 90,\n",
    "    \"ahmed\": 85,\n",
    "    \"hassan\": 3,\n",
    "    \"hassan\": 5\n",
    "}\n"
   ]
  },
  {
   "cell_type": "code",
   "execution_count": 382,
   "id": "f0f85038-6a14-4061-b6f7-f983a6fa5548",
   "metadata": {},
   "outputs": [
    {
     "data": {
      "text/plain": [
       "{'mohamed': 90, 'ahmed': 85, 'hassan': 5}"
      ]
     },
     "execution_count": 382,
     "metadata": {},
     "output_type": "execute_result"
    }
   ],
   "source": [
    "# if there two keys with same name -> dict take last value \n",
    "mydict"
   ]
  },
  {
   "cell_type": "markdown",
   "id": "ed0c439e-d224-4917-b840-96ea845add63",
   "metadata": {},
   "source": [
    "## 6. IF condition\n"
   ]
  },
  {
   "cell_type": "code",
   "execution_count": 394,
   "id": "623b44e8-76d0-4eb9-899a-0e753e4f7ba9",
   "metadata": {},
   "outputs": [
    {
     "name": "stdout",
     "output_type": "stream",
     "text": [
      "This is indented correctly\n"
     ]
    }
   ],
   "source": [
    "if True:\n",
    "    print(\"This is indented correctly\")"
   ]
  },
  {
   "cell_type": "markdown",
   "id": "1d8594c7-0fac-4ec4-9c86-45db9b88c8cf",
   "metadata": {},
   "source": [
    "1. All statements in a block must have the same indentation\n",
    "2. Don't mix tabs and spaces\n"
   ]
  },
  {
   "cell_type": "markdown",
   "id": "1bbb52ec-1e91-427e-a895-92bf3924c527",
   "metadata": {},
   "source": [
    "- `==` : Equal to\n",
    "- `!=` : Not equal to\n",
    "- `>` : Greater than\n",
    "- `<` : Less than\n",
    "- `>=` : Greater than or equal to\n",
    "- `<=` : Less than or equal to\n",
    "- `and` : Both conditions must be True\r\n",
    "- `or` : At least one condition must be True\r\n",
    "- `not` : Inverts the condition"
   ]
  },
  {
   "cell_type": "code",
   "execution_count": 386,
   "id": "fdffc136-d390-4aa8-8fe1-b8578fcef287",
   "metadata": {},
   "outputs": [
    {
     "data": {
      "text/plain": [
       "[1, 4, 35, 6, 55]"
      ]
     },
     "execution_count": 386,
     "metadata": {},
     "output_type": "execute_result"
    }
   ],
   "source": [
    "mylist"
   ]
  },
  {
   "cell_type": "code",
   "execution_count": 401,
   "id": "4bf428b5-160f-4fd5-8138-0fb8482da54b",
   "metadata": {},
   "outputs": [
    {
     "name": "stdout",
     "output_type": "stream",
     "text": [
      "1\n"
     ]
    }
   ],
   "source": [
    "\n",
    "if mylist[0] == 1:\n",
    "    \n",
    "    print(mylist[0])"
   ]
  },
  {
   "cell_type": "code",
   "execution_count": 403,
   "id": "67a2591f-4176-4070-9e88-5907ca644fed",
   "metadata": {},
   "outputs": [
    {
     "name": "stdout",
     "output_type": "stream",
     "text": [
      "Failed\n"
     ]
    }
   ],
   "source": [
    "# if else\n",
    "score = 85\n",
    "if score >= 90:\n",
    "    print(\"A grade\")\n",
    "else:\n",
    "    print(\"Failed\")\n"
   ]
  },
  {
   "cell_type": "code",
   "execution_count": 405,
   "id": "467f78d6-a4d9-4d64-9e38-5eb9631dc1b6",
   "metadata": {},
   "outputs": [
    {
     "name": "stdout",
     "output_type": "stream",
     "text": [
      "B grade\n"
     ]
    }
   ],
   "source": [
    "if score >= 90:\n",
    "    print(\"A grade\")\n",
    "elif score >= 80:\n",
    "    print(\"B grade\")\n",
    "elif score >= 70:\n",
    "    print(\"C grade\")\n",
    "else:\n",
    "    print(\"Failed\")"
   ]
  },
  {
   "cell_type": "code",
   "execution_count": 407,
   "id": "fd997581-0f9e-40e9-94f6-cd3250e5ac26",
   "metadata": {},
   "outputs": [
    {
     "name": "stdout",
     "output_type": "stream",
     "text": [
      "Eligible for loan\n"
     ]
    }
   ],
   "source": [
    "# Combining conditions with logical operators\n",
    "\n",
    "age = 25\n",
    "income = 50000\n",
    "\n",
    "if age > 18 and income >= 30000:\n",
    "    print(\"Eligible for loan\")\n"
   ]
  },
  {
   "cell_type": "markdown",
   "id": "d94dc15d-c50c-46a1-8ac9-de6d5c64a96b",
   "metadata": {},
   "source": [
    "## 7. For Loops\n",
    "### Understanding For Loops in Python"
   ]
  },
  {
   "cell_type": "code",
   "execution_count": 410,
   "id": "256262a7-4b14-4e3d-9935-7f8048f54fcd",
   "metadata": {},
   "outputs": [
    {
     "name": "stdout",
     "output_type": "stream",
     "text": [
      "0\n",
      "1\n",
      "2\n",
      "3\n",
      "4\n"
     ]
    }
   ],
   "source": [
    "# Basic for loop with range\n",
    "for i in range(5):    # Iterates 0 to 4\n",
    "    print(i)"
   ]
  },
  {
   "cell_type": "code",
   "execution_count": 412,
   "id": "a9f0637a-8e05-4130-994c-a6e32e046595",
   "metadata": {},
   "outputs": [
    {
     "name": "stdout",
     "output_type": "stream",
     "text": [
      "2\n",
      "4\n",
      "6\n",
      "8\n"
     ]
    }
   ],
   "source": [
    "# range(start, stop, step)\n",
    "for i in range(2, 10, 2):    # Even numbers from 2 to 8\n",
    "    print(i)  # Prints: 2, 4, 6, 8\n"
   ]
  },
  {
   "cell_type": "code",
   "execution_count": 414,
   "id": "bfa91f21-42a1-4a4c-a492-05556a002fef",
   "metadata": {},
   "outputs": [
    {
     "name": "stdout",
     "output_type": "stream",
     "text": [
      "apple\n",
      "banana\n",
      "orange\n"
     ]
    }
   ],
   "source": [
    "# Looping through a list\n",
    "fruits = [\"apple\", \"banana\", \"orange\"]\n",
    "for fruit in fruits:\n",
    "    print(fruit)\n"
   ]
  },
  {
   "cell_type": "code",
   "execution_count": 416,
   "id": "2a01f8c6-0092-4c19-b8c3-fb30ed8d89a7",
   "metadata": {},
   "outputs": [],
   "source": [
    "# Looping through dictionary\n",
    "mydict = {\n",
    "    \"mohamed\": 90,\n",
    "    \"ahmed\": 85,\n",
    "    \"hassan\": 3,\n",
    "}"
   ]
  },
  {
   "cell_type": "code",
   "execution_count": 418,
   "id": "d712e246-abbb-4529-85af-d9d3db6b2993",
   "metadata": {},
   "outputs": [
    {
     "name": "stdout",
     "output_type": "stream",
     "text": [
      "mohamed\n",
      "ahmed\n",
      "hassan\n"
     ]
    }
   ],
   "source": [
    "# Loop through keys\n",
    "for student in mydict.keys():\n",
    "    print(student)"
   ]
  },
  {
   "cell_type": "code",
   "execution_count": 426,
   "id": "8fdcae47-6e11-4faf-be2b-db4f685dcd0c",
   "metadata": {},
   "outputs": [
    {
     "name": "stdout",
     "output_type": "stream",
     "text": [
      "90\n",
      "85\n",
      "5\n"
     ]
    }
   ],
   "source": [
    "# Loop through values\n",
    "for student in mydict.values():\n",
    "    print(student)"
   ]
  },
  {
   "cell_type": "code",
   "execution_count": 428,
   "id": "f527792d-4401-4e98-9459-81e17e4b7aae",
   "metadata": {},
   "outputs": [
    {
     "name": "stdout",
     "output_type": "stream",
     "text": [
      "mohamed scored 90\n",
      "ahmed scored 85\n",
      "hassan scored 5\n"
     ]
    }
   ],
   "source": [
    "# Loop through keys and values\n",
    "for student, score in mydict.items():\n",
    "    print(f\"{student} scored {score}\")"
   ]
  },
  {
   "cell_type": "code",
   "execution_count": 430,
   "id": "1b0639cc-6a56-47d2-847f-1c83d379a129",
   "metadata": {},
   "outputs": [
    {
     "name": "stdout",
     "output_type": "stream",
     "text": [
      "i: 0, j: 0\n",
      "i: 0, j: 1\n",
      "i: 1, j: 0\n",
      "i: 1, j: 1\n",
      "i: 2, j: 0\n",
      "i: 2, j: 1\n"
     ]
    }
   ],
   "source": [
    "# Nested loops\n",
    "for i in range(3):\n",
    "    for j in range(2):\n",
    "        print(f\"i: {i}, j: {j}\")\n"
   ]
  },
  {
   "cell_type": "code",
   "execution_count": 432,
   "id": "aba9ec63-e957-48f1-9a46-835ac44e5b25",
   "metadata": {},
   "outputs": [
    {
     "name": "stdout",
     "output_type": "stream",
     "text": [
      "0\n",
      "1\n",
      "2\n"
     ]
    }
   ],
   "source": [
    "# Using break\n",
    "for i in range(5):\n",
    "    if i == 3:\n",
    "        break    # Exit loop when i equals 3\n",
    "    print(i)"
   ]
  },
  {
   "cell_type": "markdown",
   "id": "e6edfed6-ee01-4d4c-9906-65f355296a66",
   "metadata": {},
   "source": [
    "## 8. Functions\n",
    "### Function Definition and Usage"
   ]
  },
  {
   "cell_type": "code",
   "execution_count": 438,
   "id": "b0763918-7d4c-42c5-81f8-ed499d30ab88",
   "metadata": {},
   "outputs": [],
   "source": [
    "# Simple function with two parameters\n",
    "def mysumFunc(num1, num2):\n",
    "    return num1 + num2"
   ]
  },
  {
   "cell_type": "code",
   "execution_count": 440,
   "id": "b649ee43-658a-41d7-9897-e906cd6aa7fb",
   "metadata": {},
   "outputs": [
    {
     "data": {
      "text/plain": [
       "5"
      ]
     },
     "execution_count": 440,
     "metadata": {},
     "output_type": "execute_result"
    }
   ],
   "source": [
    "mysumFunc(2,3)"
   ]
  },
  {
   "cell_type": "code",
   "execution_count": 442,
   "id": "4a9901cc-7bf4-457f-a1cd-d63392044a5a",
   "metadata": {},
   "outputs": [],
   "source": [
    "# More complex function working with dictionaries\n",
    "def getStudentGrad(mydict):\n",
    "    for i in mydict.keys():\n",
    "        if mydict[i] >= 90:   \n",
    "            print(f\" name is {i} grad is : A\")\n",
    "        elif mydict[i] >= 80:\n",
    "            print(f\" name is {i} grad is : B\")\n",
    "        else:\n",
    "            print(f\" name is {i} grad is : C\")"
   ]
  },
  {
   "cell_type": "code",
   "execution_count": 444,
   "id": "6e27b266-8ec1-4bfe-8610-fefdc2413106",
   "metadata": {},
   "outputs": [
    {
     "name": "stdout",
     "output_type": "stream",
     "text": [
      " name is mohamed grad is : A\n",
      " name is ahmed grad is : B\n",
      " name is hassan grad is : C\n"
     ]
    }
   ],
   "source": [
    "getStudentGrad(mydict)"
   ]
  },
  {
   "cell_type": "markdown",
   "id": "a9ff7a7a-c9b9-48f7-92a8-a68de163e64e",
   "metadata": {},
   "source": [
    "## Section Practice Exercise:"
   ]
  },
  {
   "cell_type": "markdown",
   "id": "820e8f15-fc9f-4d20-9ca9-dc104febdb47",
   "metadata": {},
   "source": [
    "Create a function called `analyze_grades` that takes a list of student grades (numbers between 0-100) as input\n",
    "The function should:\n",
    "```python\n",
    "student_grades = [85, 92, 78, 65, 43, 98, 71, 88, 55, 89]\n",
    "\n",
    "```\n",
    "1. Calculate the average\n",
    "\n",
    "2. Find the highest and lowest grades\n",
    "\n",
    "3. Count how many students passed (grade >= 60)\n",
    "\n",
    "4. Count how many students failed (grade < 60)\n",
    "\n"
   ]
  },
  {
   "cell_type": "markdown",
   "id": "12404fc8-1980-4250-9001-6fd60d867609",
   "metadata": {},
   "source": [
    "#### Try to do it by yourself again"
   ]
  },
  {
   "cell_type": "markdown",
   "id": "0df093de-6cb7-432e-95e7-3c3b610ae6de",
   "metadata": {},
   "source": [
    "after this here is the solution"
   ]
  },
  {
   "cell_type": "markdown",
   "id": "01758989-87a6-4ed1-88ca-420261309285",
   "metadata": {
    "jp-MarkdownHeadingCollapsed": true
   },
   "source": [
    "## Solution"
   ]
  },
  {
   "cell_type": "code",
   "execution_count": 451,
   "id": "c0809b62-b3f2-491c-8ac0-667ad32ac403",
   "metadata": {},
   "outputs": [],
   "source": [
    "student_grades = [85, 92, 78, 65, 43, 98, 71, 88, 55, 89]"
   ]
  },
  {
   "cell_type": "code",
   "execution_count": 452,
   "id": "31a2351f-e12c-4b35-bf37-1dae3686ca8e",
   "metadata": {},
   "outputs": [],
   "source": [
    "def analyze_grades(student_grades):\n",
    "    print(f\"avavarage : {sum(student_grades)/len(student_grades)}\")\n",
    "    print(f\"min : {min(student_grades)}\")\n",
    "    print(f\"max : {max(student_grades)}\")\n",
    "    passed_numbers = 0\n",
    "    fail_numbers = 0\n",
    "    \n",
    "    for i in student_grades:\n",
    "        if i >= 60:\n",
    "            passed_numbers= passed_numbers+ 1\n",
    "        else:\n",
    "            fail_numbers= fail_numbers + 1\n",
    "    print(f\"number of passed {passed_numbers}, number of fails {fail_numbers}\")\n",
    "    "
   ]
  },
  {
   "cell_type": "code",
   "execution_count": 455,
   "id": "f0d8c00a-657f-4b5c-82b5-2dd8d3c91eac",
   "metadata": {},
   "outputs": [
    {
     "name": "stdout",
     "output_type": "stream",
     "text": [
      "avavarage : 76.4\n",
      "min : 43\n",
      "max : 98\n",
      "number of passed 8, number of fails 2\n"
     ]
    }
   ],
   "source": [
    "analyze_grades(student_grades)"
   ]
  }
 ],
 "metadata": {
  "kernelspec": {
   "display_name": "Python [conda env:base] *",
   "language": "python",
   "name": "conda-base-py"
  },
  "language_info": {
   "codemirror_mode": {
    "name": "ipython",
    "version": 3
   },
   "file_extension": ".py",
   "mimetype": "text/x-python",
   "name": "python",
   "nbconvert_exporter": "python",
   "pygments_lexer": "ipython3",
   "version": "3.12.4"
  }
 },
 "nbformat": 4,
 "nbformat_minor": 5
}
