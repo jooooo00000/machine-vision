{
 "cells": [
  {
   "cell_type": "code",
   "execution_count": null,
   "id": "a3812320",
   "metadata": {},
   "outputs": [],
   "source": [
    "import cv2\n",
    "import numpy as np\n",
    "from matplotlib import pyplot as plt\n",
    "\n",
    "# Load the image\n",
    "img = cv2.imread(r'D:\\machine vision\\pictures\\opencv.jpg')\n",
    "\n",
    "# Averaging filter (blur)\n",
    "averaged = cv2.blur(img, (5, 5))\n",
    "\n",
    "# Gaussian blur\n",
    "gaussian_blur = cv2.GaussianBlur(img, (5, 5), 0)\n",
    "\n",
    "# Median filter (for noise reduction)\n",
    "median_blur = cv2.medianBlur(img, 5)\n",
    "\n",
    "# Display all the results in a grid for comparison\n",
    "titles = ['Original', 'Averaging', 'Gaussian Blur', 'Median Blur']\n",
    "images = [img, averaged, gaussian_blur, median_blur]\n",
    "\n",
    "# Plot each image with its respective title\n",
    "for i in range(4):\n",
    "    plt.subplot(2, 2, i+1)\n",
    "    plt.imshow(cv2.cvtColor(images[i], cv2.COLOR_BGR2RGB))  # Convert BGR to RGB for display in matplotlib\n",
    "    plt.title(titles[i])\n",
    "    plt.axis('off')\n",
    "\n",
    "plt.show()"
   ]
  }
 ],
 "metadata": {
  "language_info": {
   "name": "python"
  }
 },
 "nbformat": 4,
 "nbformat_minor": 5
}
