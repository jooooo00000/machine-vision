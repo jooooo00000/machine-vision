
{
 "cells": [
  {
   "cell_type": "markdown",
   "metadata": {},
   "source": [
    "# Student Management System\n",
    "This notebook implements a simple Student Management System with the following functionalities:\n",
    "- Manage student data\n",
    "- Process grades\n",
    "- Generate student reports\n",
    "- Additional features for adding, updating, removing, and sorting students\n"
   ]
  },
  {
   "cell_type": "code",
   "execution_count": null,
   "metadata": {},
   "outputs": [],
   "source": [
    "# Sample Data\n",
    "students = {\n",
    "    \"ST101\": {\"name\": \"John Smith\", \"age\": 20, \"grades\": [85, 90, 88]},\n",
    "    \"ST102\": {\"name\": \"Emma Davis\", \"age\": 19, \"grades\": [55, 60, 58]},\n",
    "    \"ST103\": {\"name\": \"Alex Johnson\", \"age\": 21, \"grades\": [95, 92, 96]},\n",
    "}"
   ]
  },
  {
   "cell_type": "code",
   "execution_count": null,
   "metadata": {},
   "outputs": [],
   "source": [
    "# Task 2: Grade Processing\n",
    "def process_grades(student_id):\n",
    "    if student_id not in students:\n",
    "        return \"Student ID not found.\"\n",
    "    \n",
    "    grades = students[student_id][\"grades\"]\n",
    "    avg_grade = sum(grades) / len(grades)\n",
    "    highest_grade = max(grades)\n",
    "    lowest_grade = min(grades)\n",
    "    status = \"Pass\" if avg_grade >= 60 else \"Fail\"\n",
    "    \n",
    "    return avg_grade, highest_grade, lowest_grade, status"
   ]
  },
  {
   "cell_type": "code",
   "execution_count": null,
   "metadata": {},
   "outputs": [],
   "source": [
    "# Task 3: Student Report\n",
    "def generate_report():\n",
    "    print(\"Student Report\")\n",
    "    print(\"-\" * 50)\n",
    "    for student_id, details in students.items():\n",
    "        avg_grade, _, _, status = process_grades(student_id)\n",
    "        print(f\"ID: {student_id}, Name: {details['name']}, Age: {details['age']}, Status: {status}\")\n",
    "    print(\"-\" * 50)"
   ]
  },
  {
   "cell_type": "code",
   "execution_count": null,
   "metadata": {},
   "outputs": [],
   "source": [
    "# Bonus Task: Add, Update, Remove, Sort Functions\n",
    "def add_student(student_id, name, age, grades):\n",
    "    if student_id in students:\n",
    "        return \"Student ID already exists.\"\n",
    "    students[student_id] = {\"name\": name, \"age\": age, \"grades\": grades}\n",
    "    return \"Student added successfully.\"\n",
    "\n",
    "def update_grades(student_id, new_grades):\n",
    "    if student_id not in students:\n",
    "        return \"Student ID not found.\"\n",
    "    students[student_id][\"grades\"] = new_grades\n",
    "    return \"Grades updated successfully.\"\n",
    "\n",
    "def remove_student(student_id):\n",
    "    if student_id not in students:\n",
    "        return \"Student ID not found.\"\n",
    "    del students[student_id]\n",
    "    return \"Student removed successfully.\"\n",
    "\n",
    "def sort_students_by_average():\n",
    "    sorted_students = sorted(students.items(), key=lambda x: sum(x[1][\"grades\"]) / len(x[1][\"grades\"]), reverse=True)\n",
    "    return sorted_students"
   ]
  },
  {
   "cell_type": "code",
   "execution_count": null,
   "metadata": {},
   "outputs": [],
   "source": [
    "# Testing\n",
    "# Task 2\n",
    "print(process_grades(\"ST101\"))  # Example output: (87.67, 90, 85, \"Pass\")\n",
    "\n",
    "# Task 3\n",
    "generate_report()\n",
    "\n",
    "# Bonus Task Examples\n",
    "print(add_student(\"ST104\", \"Liam Brown\", 22, [70, 75, 80]))\n",
    "print(update_grades(\"ST101\", [95, 90, 92]))\n",
    "print(remove_student(\"ST102\"))\n",
    "print(sort_students_by_average())"
   ]
  }
 ],
 "metadata": {
  "kernelspec": {
   "display_name": "Python 3",
   "language": "python",
   "name": "python3"
  },
  "language_info": {
   "codemirror_mode": {
    "name": "ipython",
    "version": 3
   },
   "file_extension": ".py",
   "mimetype": "text/x-python",
   "name": "python",
   "nbconvert_exporter": "python",
   "pygments_lexer": "ipython3",
   "version": "3.8.8"
  }
 },
 "nbformat": 4,
 "nbformat_minor": 5
}
